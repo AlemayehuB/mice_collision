{
 "cells": [
  {
   "cell_type": "code",
   "execution_count": 4,
   "metadata": {},
   "outputs": [],
   "source": [
    "import pylab\n",
    "import numpy as np\n",
    "import math\n",
    "import matplotlib.pyplot as plt\n",
    "#M = 10^11 M_solar\n",
    "#[M] = 5*10^10 M_solar\n",
    "M = 2\n",
    "#L = 25 kpc\n",
    "#[L] = 3.5kpc\n",
    "R_p = 7.1429 #pericenter\n",
    "R_a = 28.5714 #apocenter\n",
    "v_in = 0.1673 #inital velocity @ the apocenter\n",
    "#[T] = 10^8\n",
    "def generate_ring(r,N):\n",
    "    \n",
    "    ring = np.ones((N,3))\n",
    "    vel = np.ones((N,3))\n",
    "    v = np.sqrt(M/r)\n",
    "    for i in range(N):\n",
    "        ring[i,0] = r*np.cos((2*np.pi*i)/N)\n",
    "        ring[i,1] = r*np.sin((2*np.pi*i)/N)\n",
    "        ring[i,2] = 0 \n",
    "        vel[i,0] = v*np.cos((2*np.pi*i)/N)\n",
    "        vel[i,1] = v*np.sin((2*np.pi*i)/N)\n",
    "        vel[i,2] = 0\n",
    "\n",
    "    return ring,vel\n",
    "\n",
    "def generate_mice(N,r):\n",
    "    disk = np.array([[0.0,0.0,0.0]])\n",
    "    o_v = np.array([[0.0,0.0,0.0]])\n",
    "    for i in range(11):\n",
    "        x,v = generate_ring((0.2 + 0.05*i)*r, (12 + 3*i))\n",
    "        o_v = np.append(o_v,v,axis=0)   \n",
    "        disk  = np.append(disk,x,axis=0)   \n",
    "        \n",
    "    return disk,o_v"
   ]
  },
  {
   "cell_type": "markdown",
   "metadata": {},
   "source": [
    "generate_mice(297,100)\n"
   ]
  },
  {
   "cell_type": "code",
   "execution_count": 5,
   "metadata": {},
   "outputs": [],
   "source": [
    "def rot_mat(deg, n):\n",
    "    \n",
    "    ang = np.pi/180.0 * deg\n",
    "    a = 1 - np.cos(ang)\n",
    "    s = np.sin(ang)\n",
    "    c = np.cos(ang)\n",
    "    R = np.zeros((3,3))\n",
    "    R[0,0] = a*n[0]**2 + c\n",
    "    R[0,1] = a*n[0]*n[1] - s*n[2]\n",
    "    R[0,2] = a*n[0]*n[2] + s*n[1]\n",
    "    R[1,0] = a*n[0]*n[1] + s*n[2]\n",
    "    R[1,1] = a*n[1]**2 + c\n",
    "    R[1,2] = a*n[1]*n[2] - s*n[0]\n",
    "    R[2,0] = a*n[0]*n[2] - s*n[1]\n",
    "    R[2,1] = a*n[1]*n[2] + s*n[0]\n",
    "    R[2,2] = a*n[2]**2 + c\n",
    "    \n",
    "    return R\n",
    "    "
   ]
  },
  {
   "cell_type": "code",
   "execution_count": 8,
   "metadata": {},
   "outputs": [
    {
     "name": "stdout",
     "output_type": "stream",
     "text": [
      "[[ 6.123234e-17  0.000000e+00  1.000000e+00]\n",
      " [ 0.000000e+00  1.000000e+00  0.000000e+00]\n",
      " [-1.000000e+00  0.000000e+00  6.123234e-17]]\n"
     ]
    },
    {
     "name": "stderr",
     "output_type": "stream",
     "text": [
      "<ipython-input-8-e3ec5d72a433>:8: MatplotlibDeprecationWarning: Adding an axes using the same arguments as a previous axes currently reuses the earlier instance.  In a future version, a new instance will always be created and returned.  Meanwhile, this warning can be suppressed, and the future behavior ensured, by passing a unique label to each axes instance.\n",
      "  ax2 = fig.add_subplot()\n"
     ]
    },
    {
     "data": {
      "text/plain": [
       "<matplotlib.collections.PathCollection at 0x7fb368661b20>"
      ]
     },
     "execution_count": 8,
     "metadata": {},
     "output_type": "execute_result"
    },
    {
     "data": {
      "image/png": "[encoded data removed]",
      "text/plain": [
       "<Figure size 432x288 with 1 Axes>"
      ]
     },
     "metadata": {
      "needs_background": "light"
     },
     "output_type": "display_data"
    }
   ],
   "source": [
    "gal, vel = generate_mice(297,100)\n",
    "R = rot_mat(90.0, [0.0,1.0,0.0])\n",
    "print(R)\n",
    "mod_disk = np.array([np.matmul(R,gal[i,:]) for i in range(298)])\n",
    "fig = plt.figure()\n",
    "ax1 = fig.add_subplot()\n",
    "ax1.scatter(gal[:,0],gal[:,1],fc='r', s = 3)\n",
    "ax2 = fig.add_subplot()\n",
    "ax2.scatter(mod_disk[:,0],mod_disk[:,1], fc='b', s = 3)"
   ]
  },
  {
   "cell_type": "code",
   "execution_count": 8,
   "metadata": {},
   "outputs": [],
   "source": [
    "def mice_init(r):\n",
    "    w = -90\n",
    "    n1 = [0.0,0.0,1.0]\n",
    "    i_a = -15\n",
    "    n2 = [1.0,0.0,0.0]\n",
    "    i_b = -60\n",
    "    g_pos, g_vel = generate_mice(297,20)\n",
    "    R = rot_mat(w, n1)\n",
    "    Ra = rot_mat(i_a, n2)\n",
    "    Rb = rot_mat(i_b, n2)\n",
    "    gal_a = np.array([np.matmul(Ra, np.matmul(R,g_pos[i,:])) for i in range(298)]) + [0.0,r,0.0] \n",
    "    gal_b = np.array([np.matmul(Rb, np.matmul(R,g_pos[i,:])) for i in range(298)]) - [0.0,r,0.0]\n",
    "    va = np.array([np.matmul(Ra, np.matmul(R,g_vel[i,:])) for i in range(298)])\n",
    "    va[0,:] = [-v_in, 0.0, 0.0]\n",
    "    vb = np.array([np.matmul(Rb, np.matmul(R,g_vel[i,:])) for i in range(298)])\n",
    "    vb[0,:] = [v_in, 0.0, 0.0]\n",
    "    fig = plt.figure(figsize =[10, 10])\n",
    "#     ax = fig.add_subplot(projection='3d')\n",
    "#     ax.scatter(gal_a[:,0],gal_a[:,1], gal_a[:,2], fc='b', s = 3)\n",
    "#     ax.scatter(gal_b[:,0],gal_b[:,1], gal_b[:,2], fc='r', s = 3)\n",
    "#     ax.view_init(elev=100., azim=50)\n",
    "    ax = fig.add_subplot()\n",
    "    ax.scatter(gal_a[:,0],gal_a[:,1], fc='b', s = 3)\n",
    "    ax.scatter(gal_b[:,0],gal_b[:,1], fc='r', s = 3)\n",
    "    ax.set_xlim([-40,40])\n",
    "    ax.set_ylim([-45,45])\n",
    "    gal = np.append(gal_a, gal_b, axis=0)\n",
    "    all_v = np.append(va, vb,axis=0)\n",
    "    return (gal, all_v) \n",
    "    plt.show()"
   ]
  },
  {
   "cell_type": "code",
   "execution_count": 11,
   "metadata": {},
   "outputs": [
    {
     "data": {
      "image/png": "[encoded data removed]",
      "text/plain": [
       "<Figure size 720x720 with 1 Axes>"
      ]
     },
     "metadata": {
      "needs_background": "light"
     },
     "output_type": "display_data"
    }
   ],
   "source": [
    "x, v= mice_init(R_a)\n",
    "np.savetxt('init.out',np.c_[np.around(x[:,0],3), np.around(x[:,1],3), np.around(x[:,2],3), np.around(v[:,0],3) ,np.around(v[:,1],3) ,np.around(v[:,2],3)], fmt='%.3f') "
   ]
  },
  {
   "cell_type": "markdown",
   "metadata": {},
   "source": [
    "#### import pylab\n",
    "r_in = 100 \n",
    "x1 , y1 = plot_ring(0.2*r_in,12)\n",
    "x2 , y2 = plot_ring(0.25*r_in,15)\n",
    "x3 , y3 = plot_ring(0.3*r_in,18)\n",
    "x4 , y4 = plot_ring(0.35*r_in,21)\n",
    "x5 , y5 = plot_ring(0.4*r_in,24)\n",
    "x6 , y6 = plot_ring(0.45*r_in,27)\n",
    "x7 , y7 = plot_ring(0.5*r_in,30)\n",
    "x8 , y8 = plot_ring(0.55*r_in,33)\n",
    "x9 , y9 = plot_ring(0.6*r_in,36)\n",
    "x10 , y10 = plot_ring(0.65*r_in,39)\n",
    "x11 , y11 = plot_ring(0.7*r_in,42)\n",
    "\n",
    "fig, axes = pylab.subplots()\n",
    "axes.scatter(x1,y1, fc='b')\n",
    "axes.scatter(x2,y2, fc='b')\n",
    "axes.scatter(x3,y3, fc='b')\n",
    "axes.scatter(x4,y4, fc='b')\n",
    "axes.scatter(x5,y5, fc='b')\n",
    "axes.scatter(x6,y6, fc='b')\n",
    "axes.scatter(x7,y7, fc='b')\n",
    "axes.scatter(x8,y8, fc='b')\n",
    "axes.scatter(x9,y9, fc='b')\n",
    "axes.scatter(x10,y10, fc='b')\n",
    "axes.scatter(x11,y11, fc='b')\n",
    "pylab.savefig(\"mice.png\")"
   ]
  },
  {
   "cell_type": "code",
   "execution_count": 10,
   "metadata": {},
   "outputs": [
    {
     "name": "stdout",
     "output_type": "stream",
     "text": [
      "[[0 0]\n",
      " [1 4]]\n",
      "[[20 30]\n",
      " [13 44]]\n",
      "[[ 0  0]\n",
      " [ 1  4]\n",
      " [20 30]\n",
      " [13 44]]\n"
     ]
    }
   ],
   "source": [
    "x = np.array([[0,0],[1,4]])\n",
    "y = np.array([[20,30],[13,44]])\n",
    "print(x)\n",
    "print(y)\n",
    "print(np.append(x,y,axis=0))"
   ]
  },
  {
   "cell_type": "code",
   "execution_count": 38,
   "metadata": {},
   "outputs": [
    {
     "name": "stdout",
     "output_type": "stream",
     "text": [
      "0.2\n",
      "0.25\n",
      "0.30000000000000004\n",
      "0.35000000000000003\n",
      "0.4\n",
      "0.45\n",
      "0.5\n",
      "0.55\n",
      "0.6000000000000001\n",
      "0.65\n",
      "0.7\n",
      "0.75\n"
     ]
    }
   ],
   "source": [
    "for i in range(12):\n",
    "    print(0.2+0.05*i)"
   ]
  },
  {
   "cell_type": "code",
   "execution_count": 158,
   "metadata": {},
   "outputs": [
    {
     "data": {
      "text/plain": [
       "array([[-1., -3., -5.],\n",
       "       [-1., -3., -5.],\n",
       "       [-1., -3., -5.],\n",
       "       [-1., -3., -5.],\n",
       "       [-1., -3., -5.]])"
      ]
     },
     "execution_count": 158,
     "metadata": {},
     "output_type": "execute_result"
    }
   ],
   "source": [
    "np.ones((5,3))-[2.0,4.0,6.0]"
   ]
  },
  {
   "cell_type": "code",
   "execution_count": null,
   "metadata": {},
   "outputs": [],
   "source": []
  }
 ],
 "metadata": {
  "kernelspec": {
   "display_name": "Python 3",
   "language": "python",
   "name": "python3"
  },
  "language_info": {
   "codemirror_mode": {
    "name": "ipython",
    "version": 3
   },
   "file_extension": ".py",
   "mimetype": "text/x-python",
   "name": "python",
   "nbconvert_exporter": "python",
   "pygments_lexer": "ipython3",
   "version": "3.8.3"
  }
 },
 "nbformat": 4,
 "nbformat_minor": 2
}

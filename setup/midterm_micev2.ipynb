{
 "cells": [
  {
   "cell_type": "code",
   "execution_count": 5,
   "metadata": {},
   "outputs": [],
   "source": [
    "import pylab\n",
    "import numpy as np\n",
    "import math\n",
    "import matplotlib.pyplot as plt\n",
    "#M = 10^11 M_solar\n",
    "#[M] = 5*10^10 M_solar\n",
    "M = 2\n",
    "#L = 25 kpc\n",
    "#[L] = 3.5kpc\n",
    "R_p = 7.1429 #pericenter\n",
    "R_a = 28.5714 #apocenter\n",
    "\n",
    "v_in = 0.08832165482283452 #inital velocity @ the apocenter\n",
    "#v_in = 0.06\n",
    "#v_in = 0.05\n",
    "#v_in = 0.0\n",
    "#[T] = 10^8\n",
    "def generate_ring(r,N):\n",
    "    # Generates each ring\n",
    "    ring = np.ones((N,3))\n",
    "    vel = np.ones((N,3))\n",
    "    v = np.sqrt(M/r)\n",
    "    for i in range(N):\n",
    "        ring[i,0] = r*np.cos((2*np.pi*i)/N)\n",
    "        ring[i,1] = r*np.sin((2*np.pi*i)/N)\n",
    "        ring[i,2] = 0 \n",
    "        vel[i,0] = -v*np.sin((2*np.pi*i)/N)\n",
    "        vel[i,1] = v*np.cos((2*np.pi*i)/N)\n",
    "#         vel[i,0] = v*np.sin(np.pi/4)\n",
    "#         vel[i,1] = v*np.cos(np.pi/4)\n",
    "        vel[i,2] = 0\n",
    "\n",
    "    return ring,vel\n",
    "\n",
    "def generate_mice(N,r):\n",
    "    #Generates the core with the test particles\n",
    "    disk = np.array([[0.0,0.0,0.0]])\n",
    "    o_v = np.array([[0.0,0.0,0.0]])\n",
    "    for i in range(11):\n",
    "        x,v = generate_ring((0.2 + 0.05*i)*r, (12 + 3*i))\n",
    "#         x,v = generate_ring((0.2 + 0.05*i)*r, 297)\n",
    "        o_v = np.append(o_v,v,axis=0)   \n",
    "        disk  = np.append(disk,x,axis=0)   \n",
    "        \n",
    "    return disk,o_v"
   ]
  },
  {
   "cell_type": "code",
   "execution_count": 6,
   "metadata": {},
   "outputs": [
    {
     "name": "stdout",
     "output_type": "stream",
     "text": [
      "[[ 6.123234e-17  0.000000e+00  1.000000e+00]\n",
      " [ 0.000000e+00  1.000000e+00  0.000000e+00]\n",
      " [-1.000000e+00  0.000000e+00  6.123234e-17]]\n"
     ]
    },
    {
     "name": "stderr",
     "output_type": "stream",
     "text": [
      "<ipython-input-6-e3ec5d72a433>:8: MatplotlibDeprecationWarning: Adding an axes using the same arguments as a previous axes currently reuses the earlier instance.  In a future version, a new instance will always be created and returned.  Meanwhile, this warning can be suppressed, and the future behavior ensured, by passing a unique label to each axes instance.\n",
      "  ax2 = fig.add_subplot()\n"
     ]
    },
    {
     "data": {
      "text/plain": [
       "<matplotlib.collections.PathCollection at 0x7f5478786df0>"
      ]
     },
     "execution_count": 6,
     "metadata": {},
     "output_type": "execute_result"
    },
    {
     "data": {
      "image/png": "[encoded data removed]",
      "text/plain": [
       "<Figure size 432x288 with 1 Axes>"
      ]
     },
     "metadata": {
      "needs_background": "light"
     },
     "output_type": "display_data"
    }
   ],
   "source": [
    "gal, vel = generate_mice(297,100)\n",
    "R = rot_mat(90.0, [0.0,1.0,0.0])\n",
    "print(R)\n",
    "mod_disk = np.array([np.matmul(R,gal[i,:]) for i in range(298)])\n",
    "fig = plt.figure()\n",
    "ax1 = fig.add_subplot()\n",
    "ax1.scatter(gal[:,0],gal[:,1],fc='r', s = 3)\n",
    "ax2 = fig.add_subplot()\n",
    "ax2.scatter(mod_disk[:,0],mod_disk[:,1], fc='b', s = 3)"
   ]
  },
  {
   "cell_type": "code",
   "execution_count": 14,
   "metadata": {},
   "outputs": [],
   "source": [
    "def rot_mat(deg, n):\n",
    "    # Rotates matrices \n",
    "   \n",
    "    ang = np.pi/180.0 * deg\n",
    "    print(ang)\n",
    "    a = 1 - np.cos(ang)\n",
    "    s = np.sin(ang)\n",
    "    c = np.cos(ang)\n",
    "    R = np.zeros((3,3))\n",
    "    R[0,0] = a*n[0]**2 + c\n",
    "    R[0,1] = a*n[0]*n[1] - s*n[2]\n",
    "    R[0,2] = a*n[0]*n[2] + s*n[1]\n",
    "    R[1,0] = a*n[0]*n[1] + s*n[2]\n",
    "    R[1,1] = a*n[1]**2 + c\n",
    "    R[1,2] = a*n[1]*n[2] - s*n[0]\n",
    "    R[2,0] = a*n[0]*n[2] - s*n[1]\n",
    "    R[2,1] = a*n[1]*n[2] + s*n[0]\n",
    "    R[2,2] = a*n[2]**2 + c\n",
    "    \n",
    "    return R   "
   ]
  },
  {
   "cell_type": "code",
   "execution_count": 15,
   "metadata": {},
   "outputs": [
    {
     "name": "stdout",
     "output_type": "stream",
     "text": [
      "-0.5235987755982988\n"
     ]
    },
    {
     "data": {
      "text/plain": [
       "array([[ 0.8660254,  0.5      ,  0.       ],\n",
       "       [-0.5      ,  0.8660254,  0.       ],\n",
       "       [ 0.       ,  0.       ,  1.       ]])"
      ]
     },
     "execution_count": 15,
     "metadata": {},
     "output_type": "execute_result"
    }
   ],
   "source": [
    "rot_mat(-30.0,[0.0,0.0,1.0])"
   ]
  },
  {
   "cell_type": "code",
   "execution_count": 7,
   "metadata": {},
   "outputs": [],
   "source": [
    "def mice_init(r):\n",
    "    #Combines both galaxies onto one plane with the right parameters\n",
    "    w = -90\n",
    "    n1 = [0.0,0.0,1.0]\n",
    "    i_a = -15\n",
    "    n2 = [1.0,0.0,0.0]\n",
    "    i_b = -60\n",
    "    g_pos, g_vel = generate_mice(297,20)\n",
    "    R = rot_mat(w, n1)\n",
    "    Ra = rot_mat(i_a, n2)\n",
    "    Rb = rot_mat(i_b, n2)\n",
    "    gal_a = np.array([np.matmul(Ra, np.matmul(R,g_pos[i,:])) for i in range(298)]) + [0.0,r,0.0] \n",
    "    va = np.array([np.matmul(Ra, np.matmul(R,g_vel[i,:])) for i in range(298)]) + [-v_in, 0.0, 0.0]\n",
    "    g_pos, g_vel = generate_mice(297,20)\n",
    "    gal_b = np.array([np.matmul(Rb, np.matmul(R,g_pos[i,:])) for i in range(298)]) - [0.0,r,0.0]\n",
    "    vb = np.array([np.matmul(Rb, np.matmul(R,g_vel[i,:])) for i in range(298)]) + [v_in, 0.0, 0.0]\n",
    "    fig = plt.figure(figsize =[10, 10])\n",
    "    ax = fig.add_subplot()\n",
    "    ax.scatter(gal_a[:,0],gal_a[:,1], fc='b', s = 3)\n",
    "    ax.scatter(gal_b[:,0],gal_b[:,1], fc='r', s = 3)\n",
    "    ax.set_xlim([-40,40])\n",
    "    ax.set_ylim([-80,80])\n",
    "    gal = np.append(gal_a, gal_b, axis=0)\n",
    "    all_v = np.append(va, vb,axis=0)\n",
    "    return (gal, all_v) \n",
    "    plt.show()"
   ]
  },
  {
   "cell_type": "code",
   "execution_count": 8,
   "metadata": {
    "scrolled": true
   },
   "outputs": [
    {
     "data": {
      "image/png": "[encoded data removed]",
      "text/plain": [
       "<Figure size 720x720 with 1 Axes>"
      ]
     },
     "metadata": {
      "needs_background": "light"
     },
     "output_type": "display_data"
    }
   ],
   "source": [
    "x, v= mice_init(R_a)\n",
    "\n",
    "np.savetxt('init.out',np.c_[np.around(x[:,0],3), np.around(x[:,1],3), np.around(x[:,2],3), np.around(v[:,0],3) ,np.around(v[:,1],3) ,np.around(v[:,2],3)], fmt='%.3f') "
   ]
  },
  {
   "cell_type": "code",
   "execution_count": null,
   "metadata": {},
   "outputs": [],
   "source": []
  },
  {
   "cell_type": "code",
   "execution_count": null,
   "metadata": {},
   "outputs": [],
   "source": []
  },
  {
   "cell_type": "code",
   "execution_count": null,
   "metadata": {},
   "outputs": [],
   "source": []
  },
  {
   "cell_type": "code",
   "execution_count": null,
   "metadata": {},
   "outputs": [],
   "source": []
  }
 ],
 "metadata": {
  "kernelspec": {
   "display_name": "Python 3",
   "language": "python",
   "name": "python3"
  },
  "language_info": {
   "codemirror_mode": {
    "name": "ipython",
    "version": 3
   },
   "file_extension": ".py",
   "mimetype": "text/x-python",
   "name": "python",
   "nbconvert_exporter": "python",
   "pygments_lexer": "ipython3",
   "version": "3.8.3"
  }
 },
 "nbformat": 4,
 "nbformat_minor": 2
}

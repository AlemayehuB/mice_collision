{
 "cells": [
  {
   "cell_type": "code",
   "execution_count": 1,
   "metadata": {},
   "outputs": [],
   "source": [
    "import pylab\n",
    "import numpy as np\n",
    "import math\n",
    "import matplotlib.pyplot as plt\n",
    "#M = 10^11 M_solar\n",
    "#[M] = 5*10^10 M_solar\n",
    "M = 2\n",
    "#L = 25 kpc\n",
    "#[L] = 3.5kpc\n",
    "R_p = 7.1429 #pericenter\n",
    "R_a = 28.5714 #apocenter\n",
    "\n",
    "v_in = 0.08832165482283452 #inital velocity @ the apocenter\n",
    "#v_in = 0.06\n",
    "#v_in = 0.05\n",
    "#v_in = 0.0\n",
    "#[T] = 10^8\n",
    "def generate_ring(r,N):\n",
    "    # Generates each ring\n",
    "    ring = np.ones((N,3))\n",
    "    vel = np.ones((N,3))\n",
    "    v = np.sqrt(M/r)\n",
    "    for i in range(N):\n",
    "        ring[i,0] = r*np.cos((2*np.pi*i)/N)\n",
    "        ring[i,1] = r*np.sin((2*np.pi*i)/N)\n",
    "        ring[i,2] = 0 \n",
    "        vel[i,0] = -v*np.sin((2*np.pi*i)/N)\n",
    "        vel[i,1] = v*np.cos((2*np.pi*i)/N)\n",
    "#         vel[i,0] = v*np.sin(np.pi/4)\n",
    "#         vel[i,1] = v*np.cos(np.pi/4)\n",
    "        vel[i,2] = 0\n",
    "\n",
    "    return ring,vel\n",
    "\n",
    "def generate_mice(N,r):\n",
    "    #Generates the core with the test particles\n",
    "    disk = np.array([[0.0,0.0,0.0]])\n",
    "    o_v = np.array([[0.0,0.0,0.0]])\n",
    "    for i in range(11):\n",
    "        x,v = generate_ring((0.2 + 0.05*i)*r, (12 + 3*i))\n",
    "#         x,v = generate_ring((0.2 + 0.05*i)*r, 297)\n",
    "        o_v = np.append(o_v,v,axis=0)   \n",
    "        disk  = np.append(disk,x,axis=0)   \n",
    "        \n",
    "    return disk,o_v"
   ]
  },
  {
   "cell_type": "code",
   "execution_count": 2,
   "metadata": {},
   "outputs": [
    {
     "ename": "NameError",
     "evalue": "name 'rot_mat' is not defined",
     "output_type": "error",
     "traceback": [
      "\u001b[0;31m---------------------------------------------------------------------------\u001b[0m",
      "\u001b[0;31mNameError\u001b[0m                                 Traceback (most recent call last)",
      "\u001b[0;32m<ipython-input-2-e3ec5d72a433>\u001b[0m in \u001b[0;36m<module>\u001b[0;34m\u001b[0m\n\u001b[1;32m      1\u001b[0m \u001b[0mgal\u001b[0m\u001b[0;34m,\u001b[0m \u001b[0mvel\u001b[0m \u001b[0;34m=\u001b[0m \u001b[0mgenerate_mice\u001b[0m\u001b[0;34m(\u001b[0m\u001b[0;36m297\u001b[0m\u001b[0;34m,\u001b[0m\u001b[0;36m100\u001b[0m\u001b[0;34m)\u001b[0m\u001b[0;34m\u001b[0m\u001b[0;34m\u001b[0m\u001b[0m\n\u001b[0;32m----> 2\u001b[0;31m \u001b[0mR\u001b[0m \u001b[0;34m=\u001b[0m \u001b[0mrot_mat\u001b[0m\u001b[0;34m(\u001b[0m\u001b[0;36m90.0\u001b[0m\u001b[0;34m,\u001b[0m \u001b[0;34m[\u001b[0m\u001b[0;36m0.0\u001b[0m\u001b[0;34m,\u001b[0m\u001b[0;36m1.0\u001b[0m\u001b[0;34m,\u001b[0m\u001b[0;36m0.0\u001b[0m\u001b[0;34m]\u001b[0m\u001b[0;34m)\u001b[0m\u001b[0;34m\u001b[0m\u001b[0;34m\u001b[0m\u001b[0m\n\u001b[0m\u001b[1;32m      3\u001b[0m \u001b[0mprint\u001b[0m\u001b[0;34m(\u001b[0m\u001b[0mR\u001b[0m\u001b[0;34m)\u001b[0m\u001b[0;34m\u001b[0m\u001b[0;34m\u001b[0m\u001b[0m\n\u001b[1;32m      4\u001b[0m \u001b[0mmod_disk\u001b[0m \u001b[0;34m=\u001b[0m \u001b[0mnp\u001b[0m\u001b[0;34m.\u001b[0m\u001b[0marray\u001b[0m\u001b[0;34m(\u001b[0m\u001b[0;34m[\u001b[0m\u001b[0mnp\u001b[0m\u001b[0;34m.\u001b[0m\u001b[0mmatmul\u001b[0m\u001b[0;34m(\u001b[0m\u001b[0mR\u001b[0m\u001b[0;34m,\u001b[0m\u001b[0mgal\u001b[0m\u001b[0;34m[\u001b[0m\u001b[0mi\u001b[0m\u001b[0;34m,\u001b[0m\u001b[0;34m:\u001b[0m\u001b[0;34m]\u001b[0m\u001b[0;34m)\u001b[0m \u001b[0;32mfor\u001b[0m \u001b[0mi\u001b[0m \u001b[0;32min\u001b[0m \u001b[0mrange\u001b[0m\u001b[0;34m(\u001b[0m\u001b[0;36m298\u001b[0m\u001b[0;34m)\u001b[0m\u001b[0;34m]\u001b[0m\u001b[0;34m)\u001b[0m\u001b[0;34m\u001b[0m\u001b[0;34m\u001b[0m\u001b[0m\n\u001b[1;32m      5\u001b[0m \u001b[0mfig\u001b[0m \u001b[0;34m=\u001b[0m \u001b[0mplt\u001b[0m\u001b[0;34m.\u001b[0m\u001b[0mfigure\u001b[0m\u001b[0;34m(\u001b[0m\u001b[0;34m)\u001b[0m\u001b[0;34m\u001b[0m\u001b[0;34m\u001b[0m\u001b[0m\n",
      "\u001b[0;31mNameError\u001b[0m: name 'rot_mat' is not defined"
     ]
    }
   ],
   "source": [
    "gal, vel = generate_mice(297,100)\n",
    "R = rot_mat(90.0, [0.0,1.0,0.0])\n",
    "print(R)\n",
    "mod_disk = np.array([np.matmul(R,gal[i,:]) for i in range(298)])\n",
    "fig = plt.figure()\n",
    "ax1 = fig.add_subplot()\n",
    "ax1.scatter(gal[:,0],gal[:,1],fc='r', s = 3)\n",
    "ax2 = fig.add_subplot()\n",
    "ax2.scatter(mod_disk[:,0],mod_disk[:,1], fc='b', s = 3)"
   ]
  },
  {
   "cell_type": "code",
   "execution_count": 3,
   "metadata": {},
   "outputs": [],
   "source": [
    "def rot_mat(deg, n):\n",
    "    # Rotates matrices \n",
    "   \n",
    "    ang = np.pi/180.0 * deg\n",
    "    print(ang)\n",
    "    a = 1 - np.cos(ang)\n",
    "    s = np.sin(ang)\n",
    "    c = np.cos(ang)\n",
    "    R = np.zeros((3,3))\n",
    "    R[0,0] = a*n[0]**2 + c\n",
    "    R[0,1] = a*n[0]*n[1] - s*n[2]\n",
    "    R[0,2] = a*n[0]*n[2] + s*n[1]\n",
    "    R[1,0] = a*n[0]*n[1] + s*n[2]\n",
    "    R[1,1] = a*n[1]**2 + c\n",
    "    R[1,2] = a*n[1]*n[2] - s*n[0]\n",
    "    R[2,0] = a*n[0]*n[2] - s*n[1]\n",
    "    R[2,1] = a*n[1]*n[2] + s*n[0]\n",
    "    R[2,2] = a*n[2]**2 + c\n",
    "    \n",
    "    return R   "
   ]
  },
  {
   "cell_type": "code",
   "execution_count": 4,
   "metadata": {},
   "outputs": [
    {
     "name": "stdout",
     "output_type": "stream",
     "text": [
      "-0.5235987755982988\n"
     ]
    },
    {
     "data": {
      "text/plain": [
       "array([[ 0.8660254,  0.5      ,  0.       ],\n",
       "       [-0.5      ,  0.8660254,  0.       ],\n",
       "       [ 0.       ,  0.       ,  1.       ]])"
      ]
     },
     "execution_count": 4,
     "metadata": {},
     "output_type": "execute_result"
    }
   ],
   "source": [
    "rot_mat(-30.0,[0.0,0.0,1.0])"
   ]
  },
  {
   "cell_type": "code",
   "execution_count": 31,
   "metadata": {},
   "outputs": [
    {
     "name": "stdout",
     "output_type": "stream",
     "text": [
      "77.76172660903109\n",
      "0.0005\n"
     ]
    }
   ],
   "source": [
    "x_in =4.6635\n",
    "y_in = 21.5\n",
    "theta = np.arctan(y_in/x_in)\n",
    "print(theta*180/np.pi)\n",
    "v = 0.17\n",
    "u_in = 0.0005\n",
    "v_in = v \n",
    "print(u_in)\n",
    "#v_in = 0.\n",
    "def mice_init(r):\n",
    "    #Combines both galaxies onto one plane with the right parameters\n",
    "    w = -90\n",
    "    n1 = [0.0,0.0,1.0]\n",
    "    i_a = -15\n",
    "    n2 = [1.0,0.0,0.0]\n",
    "    i_b = -60\n",
    "    g_pos, g_vel = generate_mice(297,5)\n",
    "    R = rot_mat(w, n1)\n",
    "    Ra = rot_mat(i_a, n2)\n",
    "    Rb = rot_mat(i_b, n2)\n",
    "    gal_a = np.array([np.matmul(Ra, np.matmul(R,g_pos[i,:])) for i in range(298)]) + [x_in,-y_in,0.0] \n",
    "    va = np.array([np.matmul(Ra, np.matmul(R,g_vel[i,:])) for i in range(298)]) + [-u_in, v_in, 0.0]\n",
    "    g_pos, g_vel = generate_mice(297,5)\n",
    "    gal_b = np.array([np.matmul(Rb, np.matmul(R,g_pos[i,:])) for i in range(298)]) + [-x_in,y_in,0.0]\n",
    "    vb = np.array([np.matmul(Rb, np.matmul(R,g_vel[i,:])) for i in range(298)]) + [u_in, -v_in, 0.0]\n",
    "    fig = plt.figure(figsize =[10, 10])\n",
    "    ax = fig.add_subplot()\n",
    "    ax.scatter(gal_a[:,0],gal_a[:,1], fc='b', s = 3)\n",
    "    ax.scatter(gal_b[:,0],gal_b[:,1], fc='r', s = 3)\n",
    "#    ax = fig.add_subplot(projection='3d')\n",
    "#     ax.scatter(gal_a[:,0],gal_a[:,1],gal_a[:,2],fc='b', s = 3)\n",
    "#     ax.scatter(gal_b[:,0],gal_b[:,1],gal_b[:,2], fc='r', s = 3)\n",
    "    ax.set_xlim([-30,30])\n",
    "    ax.set_ylim([-30,30])\n",
    "#     ax.set_zlim([-50,50])\n",
    "    gal = np.append(gal_a, gal_b, axis=0)\n",
    "    all_v = np.append(va, vb,axis=0)\n",
    "    return (gal, all_v) \n",
    "    plt.show()"
   ]
  },
  {
   "cell_type": "code",
   "execution_count": 32,
   "metadata": {
    "scrolled": false
   },
   "outputs": [
    {
     "name": "stdout",
     "output_type": "stream",
     "text": [
      "-1.5707963267948966\n",
      "-0.2617993877991494\n",
      "-1.0471975511965976\n"
     ]
    },
    {
     "data": {
      "image/png": "[encoded data removed]",
      "text/plain": [
       "<Figure size 720x720 with 1 Axes>"
      ]
     },
     "metadata": {
      "needs_background": "light"
     },
     "output_type": "display_data"
    }
   ],
   "source": [
    "x, v= mice_init(R_a)\n",
    "\n",
    "np.savetxt('init.out',np.c_[np.around(x[:,0],3), np.around(x[:,1],3), np.around(x[:,2],3), np.around(v[:,0],3) ,np.around(v[:,1],3) ,np.around(v[:,2],3)], fmt='%.3f') "
   ]
  },
  {
   "cell_type": "code",
   "execution_count": null,
   "metadata": {},
   "outputs": [],
   "source": []
  },
  {
   "cell_type": "code",
   "execution_count": null,
   "metadata": {},
   "outputs": [],
   "source": []
  },
  {
   "cell_type": "code",
   "execution_count": null,
   "metadata": {},
   "outputs": [],
   "source": []
  },
  {
   "cell_type": "code",
   "execution_count": null,
   "metadata": {},
   "outputs": [],
   "source": []
  }
 ],
 "metadata": {
  "kernelspec": {
   "display_name": "Python 3",
   "language": "python",
   "name": "python3"
  },
  "language_info": {
   "codemirror_mode": {
    "name": "ipython",
    "version": 3
   },
   "file_extension": ".py",
   "mimetype": "text/x-python",
   "name": "python",
   "nbconvert_exporter": "python",
   "pygments_lexer": "ipython3",
   "version": "3.8.3"
  }
 },
 "nbformat": 4,
 "nbformat_minor": 2
}
